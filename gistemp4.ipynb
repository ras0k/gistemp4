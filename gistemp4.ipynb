{
  "cells": [
    {
      "cell_type": "markdown",
      "metadata": {
        "id": "view-in-github",
        "colab_type": "text"
      },
      "source": [
        "<a href=\"https://colab.research.google.com/github/ras0k/gistemp4/blob/main/gistemp4.ipynb\" target=\"_parent\"><img src=\"https://colab.research.google.com/assets/colab-badge.svg\" alt=\"Open In Colab\"/></a>"
      ]
    },
    {
      "cell_type": "code",
      "execution_count": null,
      "metadata": {
        "colab": {
          "base_uri": "https://localhost:8080/",
          "height": 794
        },
        "id": "YiFEBDspgSU-",
        "outputId": "f54e7524-6fbf-41e6-ed66-45455ea8103a"
      },
      "outputs": [
        {
          "name": "stdout",
          "output_type": "stream",
          "text": [
            "Found existing installation: numpy 1.26.4\n",
            "Uninstalling numpy-1.26.4:\n",
            "  Successfully uninstalled numpy-1.26.4\n",
            "Collecting numpy==1.23.1\n",
            "  Using cached numpy-1.23.1.tar.gz (10.7 MB)\n",
            "  Installing build dependencies ... \u001b[?25l\u001b[?25hdone\n",
            "  Getting requirements to build wheel ... \u001b[?25l\u001b[?25hdone\n",
            "  Preparing metadata (pyproject.toml) ... \u001b[?25l\u001b[?25hdone\n",
            "Building wheels for collected packages: numpy\n",
            "  Building wheel for numpy (pyproject.toml) ... \u001b[?25l\u001b[?25hdone\n",
            "  Created wheel for numpy: filename=numpy-1.23.1-cp311-cp311-linux_x86_64.whl size=19731106 sha256=2872290afa54411687a916964067dc7d186659f533bbe430e302d3799aa73d94\n",
            "  Stored in directory: /root/.cache/pip/wheels/54/67/ec/c3e57b4b51328fb39dd4d63906b0d3bd37a312508e5922682f\n",
            "Successfully built numpy\n",
            "Installing collected packages: numpy\n",
            "\u001b[31mERROR: pip's dependency resolver does not currently take into account all the packages that are installed. This behaviour is the source of the following dependency conflicts.\n",
            "flax 0.10.2 requires numpy>=1.23.2; python_version >= \"3.11\", but you have numpy 1.23.1 which is incompatible.\n",
            "opencv-contrib-python 4.10.0.84 requires numpy>=1.23.5; python_version >= \"3.11\", but you have numpy 1.23.1 which is incompatible.\n",
            "ibis-framework 9.2.0 requires numpy<3,>=1.23.2, but you have numpy 1.23.1 which is incompatible.\n",
            "albumentations 1.4.20 requires numpy>=1.24.4, but you have numpy 1.23.1 which is incompatible.\n",
            "opencv-python 4.10.0.84 requires numpy>=1.23.5; python_version >= \"3.11\", but you have numpy 1.23.1 which is incompatible.\n",
            "scikit-image 0.25.1 requires numpy>=1.24, but you have numpy 1.23.1 which is incompatible.\n",
            "jaxlib 0.4.33 requires numpy>=1.24, but you have numpy 1.23.1 which is incompatible.\n",
            "tensorflow 2.18.0 requires numpy<2.1.0,>=1.26.0, but you have numpy 1.23.1 which is incompatible.\n",
            "opencv-python-headless 4.11.0.86 requires numpy>=1.23.5; python_version >= \"3.11\", but you have numpy 1.23.1 which is incompatible.\n",
            "albucore 0.0.19 requires numpy>=1.24.4, but you have numpy 1.23.1 which is incompatible.\n",
            "pandas 2.2.2 requires numpy>=1.23.2; python_version == \"3.11\", but you have numpy 1.23.1 which is incompatible.\n",
            "chex 0.1.88 requires numpy>=1.24.1, but you have numpy 1.23.1 which is incompatible.\n",
            "ml-dtypes 0.4.1 requires numpy>=1.23.3; python_version >= \"3.11\", but you have numpy 1.23.1 which is incompatible.\n",
            "bigframes 1.34.0 requires numpy>=1.24.0, but you have numpy 1.23.1 which is incompatible.\n",
            "pandas-stubs 2.2.2.240909 requires numpy>=1.23.5, but you have numpy 1.23.1 which is incompatible.\n",
            "jax 0.4.33 requires numpy>=1.24, but you have numpy 1.23.1 which is incompatible.\n",
            "blosc2 3.0.0 requires numpy>=1.25.0, but you have numpy 1.23.1 which is incompatible.\n",
            "plotnine 0.14.5 requires numpy>=1.23.5, but you have numpy 1.23.1 which is incompatible.\n",
            "xarray 2025.1.1 requires numpy>=1.24, but you have numpy 1.23.1 which is incompatible.\n",
            "mizani 0.13.1 requires numpy>=1.23.5, but you have numpy 1.23.1 which is incompatible.\n",
            "imbalanced-learn 0.13.0 requires numpy<3,>=1.24.3, but you have numpy 1.23.1 which is incompatible.\n",
            "pymc 5.19.1 requires numpy>=1.25.0, but you have numpy 1.23.1 which is incompatible.\u001b[0m\u001b[31m\n",
            "\u001b[0mSuccessfully installed numpy-1.23.1\n"
          ]
        },
        {
          "data": {
            "application/vnd.colab-display-data+json": {
              "id": "ac6421e507504e02928a55629e83c5fc",
              "pip_warning": {
                "packages": [
                  "numpy"
                ]
              }
            }
          },
          "metadata": {},
          "output_type": "display_data"
        }
      ],
      "source": [
        "!pip uninstall numpy -y\n",
        "!pip install numpy==1.23.1"
      ]
    },
    {
      "cell_type": "code",
      "execution_count": null,
      "metadata": {
        "colab": {
          "base_uri": "https://localhost:8080/"
        },
        "id": "gXN1WBxcQTYo",
        "outputId": "916d8797-761f-4a6b-d6e2-1bae8f9d145c"
      },
      "outputs": [
        {
          "name": "stdout",
          "output_type": "stream",
          "text": [
            "  % Total    % Received % Xferd  Average Speed   Time    Time     Time  Current\n",
            "                                 Dload  Upload   Total   Spent    Left  Speed\n",
            "100 1134M  100 1134M    0     0  9036k      0  0:02:08  0:02:08 --:--:-- 6673k\n"
          ]
        }
      ],
      "source": [
        "# prompt: download with curl and untar https://data.giss.nasa.gov/gistemp/sources_v4/gistemp4.0.tar.gz\n",
        "\n",
        "!curl -L https://data.giss.nasa.gov/gistemp/sources_v4/gistemp4.0.tar.gz -o gistemp4.0.tar.gz\n",
        "!tar -xzf gistemp4.0.tar.gz\n"
      ]
    },
    {
      "cell_type": "code",
      "execution_count": null,
      "metadata": {
        "colab": {
          "base_uri": "https://localhost:8080/"
        },
        "id": "8a54si9iaW-H",
        "outputId": "d2cdaba3-7676-4097-c19f-77c4ecf8cb7f"
      },
      "outputs": [
        {
          "name": "stdout",
          "output_type": "stream",
          "text": [
            "Cleared directory: /content/gistemp4.0/tmp/result\n",
            "Cleared directory: /content/gistemp4.0/tmp/progress\n",
            "Cleared directory: /content/gistemp4.0/tmp/work\n"
          ]
        }
      ],
      "source": [
        "# prompt: clear /content/gistemp4.0/tmp/result, /content/gistemp4.0/tmp/progress and /content/gistemp4.0/tmp/work\n",
        "\n",
        "import shutil\n",
        "import os\n",
        "\n",
        "# Clear the specified directories\n",
        "directories_to_clear = ['/content/gistemp4.0/tmp/result', '/content/gistemp4.0/tmp/progress', '/content/gistemp4.0/tmp/work']\n",
        "for directory in directories_to_clear:\n",
        "  if os.path.exists(directory):\n",
        "    shutil.rmtree(directory)\n",
        "    print(f\"Cleared directory: {directory}\")\n",
        "  else:\n",
        "    print(f\"Directory not found: {directory}\")"
      ]
    },
    {
      "cell_type": "code",
      "execution_count": null,
      "metadata": {
        "colab": {
          "background_save": true,
          "base_uri": "https://localhost:8080/"
        },
        "id": "t-B9jNBwUzVg",
        "outputId": "f6d4f45d-f333-418a-b93e-e33cb0a7fd03"
      },
      "outputs": [
        {
          "name": "stdout",
          "output_type": "stream",
          "text": [
            "/content/gistemp4.0\n",
            "['0', '1', '2', '3', '4', '5']\n",
            "Fetching Input Files:\n",
            "/content/gistemp4.0/tmp/input/v4.inv already exists.\n",
            "/content/gistemp4.0/tmp/input/Ts.strange.v4.list.IN_full already exists.\n",
            "/content/gistemp4.0/tmp/input/wrld-rad.data.txt already exists.\n",
            "/content/gistemp4.0/tmp/input/SBBX.ERSSTv5.gz already exists.\n",
            "  ... /content/gistemp4.0/tmp/input/SBBX.ERSSTv5 already exists.\n",
            "====> STEPS 0 to 5  ====\n",
            "No more recent sea-surface data files.\n",
            "\n",
            "Load GHCN records\n",
            "(Reading average temperature)\n",
            "Step 0: closing output file.\n",
            "Step 1: closing output file.\n",
            "Step 2: closing output file.\n",
            "Region (+64/+90 S/N -180/-090 W/E): 0 empty cells.\n",
            "Region (+64/+90 S/N -090/+000 W/E): 0 empty cells.\n",
            "Region (+64/+90 S/N +000/+090 W/E): 0 empty cells.\n",
            "Region (+64/+90 S/N +090/+180 W/E): 0 empty cells.\n",
            "Region (+44/+64 S/N -180/-135 W/E): 0 empty cells.\n",
            "Region (+44/+64 S/N -135/-090 W/E): 0 empty cells.\n",
            "Region (+44/+64 S/N -090/-045 W/E): 0 empty cells.\n",
            "Region (+44/+64 S/N -045/+000 W/E): 0 empty cells.\n",
            "Region (+44/+64 S/N +000/+045 W/E): 0 empty cells.\n",
            "Region (+44/+64 S/N +045/+090 W/E): 0 empty cells.\n",
            "Region (+44/+64 S/N +090/+135 W/E): 0 empty cells.\n",
            "Region (+44/+64 S/N +135/+180 W/E): 0 empty cells.\n",
            "Region (+24/+44 S/N -180/-150 W/E): 32 empty cells.\n",
            "Region (+24/+44 S/N -150/-120 W/E): 2 empty cells.\n",
            "Region (+24/+44 S/N -120/-090 W/E): 0 empty cells.\n",
            "Region (+24/+44 S/N -090/-060 W/E): 2 empty cells.\n",
            "Region (+24/+44 S/N -060/-030 W/E): 11 empty cells.\n",
            "Region (+24/+44 S/N -030/+000 W/E): 0 empty cells.\n",
            "Region (+24/+44 S/N +000/+030 W/E): 0 empty cells.\n",
            "Region (+24/+44 S/N +030/+060 W/E): 0 empty cells.\n",
            "Region (+24/+44 S/N +060/+090 W/E): 0 empty cells.\n",
            "Region (+24/+44 S/N +090/+120 W/E): 0 empty cells.\n",
            "Region (+24/+44 S/N +120/+150 W/E): 0 empty cells.\n",
            "Region (+24/+44 S/N +150/+180 W/E): 26 empty cells.\n",
            "Region (+00/+24 S/N -180/-158 W/E): 25 empty cells.\n",
            "Region (+00/+24 S/N -158/-135 W/E): 41 empty cells.\n",
            "Region (+00/+24 S/N -135/-112 W/E): 80 empty cells.\n",
            "Region (+00/+24 S/N -112/-090 W/E): 19 empty cells.\n",
            "Region (+00/+24 S/N -090/-068 W/E): 0 empty cells.\n",
            "Region (+00/+24 S/N -068/-045 W/E): 10 empty cells.\n",
            "Region (+00/+24 S/N -045/-022 W/E): 29 empty cells.\n",
            "Region (+00/+24 S/N -022/+000 W/E): 1 empty cell.\n",
            "Region (+00/+24 S/N +000/+022 W/E): 0 empty cells.\n",
            "Region (+00/+24 S/N +022/+045 W/E): 0 empty cells.\n",
            "Region (+00/+24 S/N +045/+068 W/E): 3 empty cells.\n",
            "Region (+00/+24 S/N +068/+090 W/E): 0 empty cells.\n",
            "Region (+00/+24 S/N +090/+112 W/E): 0 empty cells.\n",
            "Region (+00/+24 S/N +112/+135 W/E): 0 empty cells.\n",
            "Region (+00/+24 S/N +135/+158 W/E): 0 empty cells.\n",
            "Region (+00/+24 S/N +158/+180 W/E): 2 empty cells.\n",
            "Region (-24/-00 S/N -180/-158 W/E): 0 empty cells.\n",
            "Region (-24/-00 S/N -158/-135 W/E): 0 empty cells.\n",
            "Region (-24/-00 S/N -135/-112 W/E): 55 empty cells.\n",
            "Region (-24/-00 S/N -112/-090 W/E): 67 empty cells.\n",
            "Region (-24/-00 S/N -090/-068 W/E): 7 empty cells.\n",
            "Region (-24/-00 S/N -068/-045 W/E): 0 empty cells.\n",
            "Region (-24/-00 S/N -045/-022 W/E): 0 empty cells.\n",
            "Region (-24/-00 S/N -022/+000 W/E): 2 empty cells.\n",
            "Region (-24/-00 S/N +000/+022 W/E): 0 empty cells.\n",
            "Region (-24/-00 S/N +022/+045 W/E): 0 empty cells.\n",
            "Region (-24/-00 S/N +045/+068 W/E): 0 empty cells.\n",
            "Region (-24/-00 S/N +068/+090 W/E): 53 empty cells.\n",
            "Region (-24/-00 S/N +090/+112 W/E): 1 empty cell.\n",
            "Region (-24/-00 S/N +112/+135 W/E): 0 empty cells.\n",
            "Region (-24/-00 S/N +135/+158 W/E): 0 empty cells.\n",
            "Region (-24/-00 S/N +158/+180 W/E): 0 empty cells.\n",
            "Region (-44/-24 S/N -180/-150 W/E): 25 empty cells.\n",
            "Region (-44/-24 S/N -150/-120 W/E): 37 empty cells.\n",
            "Region (-44/-24 S/N -120/-090 W/E): 48 empty cells.\n",
            "Region (-44/-24 S/N -090/-060 W/E): 2 empty cells.\n",
            "Region (-44/-24 S/N -060/-030 W/E): 21 empty cells.\n",
            "Region (-44/-24 S/N -030/+000 W/E): 18 empty cells.\n",
            "Region (-44/-24 S/N +000/+030 W/E): 15 empty cells.\n",
            "Region (-44/-24 S/N +030/+060 W/E): 5 empty cells.\n",
            "Region (-44/-24 S/N +060/+090 W/E): 22 empty cells.\n",
            "Region (-44/-24 S/N +090/+120 W/E): 43 empty cells.\n",
            "Region (-44/-24 S/N +120/+150 W/E): 0 empty cells.\n",
            "Region (-44/-24 S/N +150/+180 W/E): 0 empty cells.\n",
            "Region (-64/-44 S/N -180/-135 W/E): 74 empty cells.\n",
            "Region (-64/-44 S/N -135/-090 W/E): 93 empty cells.\n",
            "Region (-64/-44 S/N -090/-045 W/E): 0 empty cells.\n",
            "Region (-64/-44 S/N -045/+000 W/E): 20 empty cells.\n",
            "Region (-64/-44 S/N +000/+045 W/E): 44 empty cells.\n",
            "Region (-64/-44 S/N +045/+090 W/E): 5 empty cells.\n",
            "Region (-64/-44 S/N +090/+135 W/E): 60 empty cells.\n",
            "Region (-64/-44 S/N +135/+180 W/E): 1 empty cell.\n",
            "Region (-90/-64 S/N -180/-090 W/E): 6 empty cells.\n",
            "Region (-90/-64 S/N -090/+000 W/E): 0 empty cells.\n",
            "Region (-90/-64 S/N +000/+090 W/E): 0 empty cells.\n",
            "Region (-90/-64 S/N +090/+180 W/E): 0 empty cells.\n",
            "\n",
            "/usr/local/lib/python3.11/dist-packages/numpy/lib/npyio.py:696: VisibleDeprecationWarning: Creating an ndarray from ragged nested sequences (which is a list-or-tuple of lists-or-tuples-or ndarrays with different lengths or shapes) is deprecated. If you meant to do this, you must specify 'dtype=object' when creating the ndarray.\n",
            "  val = np.asanyarray(val)\n",
            "Step 3: closing output file\n",
            "Step4: closing output file\n",
            "Step 5: Closing box file: /content/gistemp4.0/tmp/result/landBX.Ts.GHCN.CL.PA.1200.npz\n",
            "Step 5: Closing box file: /content/gistemp4.0/tmp/result/mixedBX.Ts.ERSSTV5.GHCN.CL.PA.1200.npz\n",
            "====> Timing Summary ====\n",
            "Run took 2151.2 seconds\n"
          ]
        }
      ],
      "source": [
        "# prompt: %cd gistemp4.0 and run /tool/run.py with pypy (install if needed)\n",
        "\n",
        "%cd /content/gistemp4.0\n",
        "!python /content/gistemp4.0/tool/run.py"
      ]
    },
    {
      "cell_type": "code",
      "execution_count": null,
      "metadata": {
        "id": "YSdkN_P2ZwpP"
      },
      "outputs": [],
      "source": [
        "# prompt: pack the /tmp/result folder in a zip\n",
        "\n",
        "!zip -r /content/results.zip /content/gistemp4.0/tmp/result"
      ]
    },
    {
      "cell_type": "code",
      "execution_count": null,
      "metadata": {
        "id": "jPQV1JaTwhSF",
        "colab": {
          "base_uri": "https://localhost:8080/"
        },
        "outputId": "42a49430-58e5-4986-a7b1-59ba864eb616"
      },
      "outputs": [
        {
          "output_type": "stream",
          "name": "stdout",
          "text": [
            "2016   1.18  1.37  1.35  1.09   .96   .81   .84  1.02   .90   .87   .92   .86    1.01  1.04    1.24  1.13   .89   .90\n",
            "2017   1.02  1.14  1.17   .94   .92   .71   .82   .87   .75   .89   .88   .93     .92   .91    1.01  1.01   .80   .84\n",
            "2018    .82   .85   .88   .89   .82   .77   .83   .78   .81  1.01   .83   .93     .85   .85     .87   .86   .79   .88\n",
            "2019    .93   .95  1.17  1.01   .87   .90   .94   .95   .93   .99   .99  1.11     .98   .96     .93  1.01   .93   .97\n",
            "2020   1.18  1.24  1.18  1.12  1.00   .91   .89   .86   .96   .87  1.09   .79    1.01  1.03    1.18  1.10   .89   .98\n",
            "2021    .81   .65   .89   .76   .79   .84   .92   .81   .92   .99   .92   .87     .85   .84     .75   .81   .86   .94\n",
            "2022    .91   .89  1.04   .83   .84   .92   .94   .95   .89   .97   .73   .80     .89   .90     .89   .91   .94   .86\n",
            "2023    .88   .97  1.23   .99   .94  1.08  1.19  1.19  1.48  1.34  1.42  1.37    1.17  1.13     .88  1.05  1.16  1.41\n",
            "2024   1.25  1.44  1.39  1.32  1.16  1.24  1.20  1.30  1.23  1.34  1.29  1.26    1.28  1.29    1.35  1.29  1.25  1.29\n",
            "2025   1.36   ***   ***   ***   ***   ***   ***   ***   ***   ***   ***   ***     ***   ***     ***   ***   ***   ***\n"
          ]
        }
      ],
      "source": [
        "# prompt: open a txt file and show the last few lines\n",
        "\n",
        "!tail /content/gistemp4.0/tmp/result/mixedGLB.Ts.ERSSTV5.GHCN.CL.PA.txt"
      ]
    }
  ],
  "metadata": {
    "colab": {
      "provenance": [],
      "gpuType": "T4",
      "authorship_tag": "ABX9TyN51kct24Y9tCy8Hmlutvo9",
      "include_colab_link": true
    },
    "kernelspec": {
      "display_name": "Python 3",
      "name": "python3"
    },
    "language_info": {
      "name": "python"
    },
    "accelerator": "GPU"
  },
  "nbformat": 4,
  "nbformat_minor": 0
}